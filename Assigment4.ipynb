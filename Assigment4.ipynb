{
 "cells": [
  {
   "cell_type": "code",
   "execution_count": null,
   "id": "0bfa3f39-2907-4d50-a107-2ea7bf751086",
   "metadata": {},
   "outputs": [],
   "source": [
    "Q1 ->How to create a function and create a function and return the odd list ?\n",
    "\n",
    "Ans -> A function is a block of code that performs a specific task. \n",
    "In python we use def keyword to make a funciton in python \n",
    "\n",
    "# create a function to return a list of odd number \n",
    "l = list(range(1 , 26))\n",
    "print(l) \n",
    "def odd_num(n):\n",
    "    l1 = []\n",
    "    for i in n:\n",
    "        if i % 2 != 0:\n",
    "            l1.append(i)\n",
    "    print(l1)\n",
    "odd_num(l)"
   ]
  },
  {
   "cell_type": "code",
   "execution_count": null,
   "id": "bcd990de-1dba-46f5-a108-02675e294f1d",
   "metadata": {},
   "outputs": [],
   "source": [
    "Q2 -> Why *args and **kwargs is used in some functions? Create a function each for *args and **kwargs\n",
    "to demonstrate their use.\n",
    "\n",
    "Ans -> *args used in some function because sometime we need to pass dynamic argument like *args is used to pass\n",
    "a n number of argument in the function and when you check the type of function it will give you tuple because it \n",
    "store the variables in the tuple and you can store different type data type value through *args in argument\n",
    "\n",
    "# example\n",
    "def var(*args):\n",
    "    return args\n",
    "var(1,2,3,\"abhi\" , 70.78)\n",
    "\n",
    "**kwargs it is also used  dynamic type argument you can enter n number in the argument through **kwargs it is a keyworded\n",
    "type of form and its returns a dictonary if you enter any type of a dataype in this\n",
    "\n",
    "def test(**kwargs):\n",
    "    return kwargs\n",
    "test(a = [1,23,45,5] , b = \"abhi\" , c = 34.34)"
   ]
  },
  {
   "cell_type": "code",
   "execution_count": 19,
   "id": "f25a63bf-8bfc-44c2-8724-a54b34e475ee",
   "metadata": {},
   "outputs": [],
   "source": [
    "Q3 -> What is an iterator in python? Name the method used to initialise the iterator object and the method\n",
    "used for iteration. Use these methods to print the first five elements of the given list [2, 4, 6, 8, 10, 12, 14,\n",
    "16, 18, 20].\n",
    "\n",
    "Ans -> Iterator in Python is an object that is used to iterate over iterable objects like lists, tuples, dicts, and sets. The iterator object is initialized using the iter() method. It uses the next() method for iteration.\n",
    "\n",
    "__iter__(): The iter() method is called for the initialization of an iterator. This returns an iterator object\n",
    "__next__(): The next method returns the next value for the iterable. When we use a for loop to traverse any iterable object, internally it uses the iter() method to get an iterator object, which further uses the next() method to iterate over. This method raises a StopIteration to signal the end of the iteration.\n",
    "\n",
    "l = [2,4,6,8,10,12,14,16,18,20]\n",
    "class iterate:\n",
    "    def __init__(self,limit):\n",
    "        self.limit = limit\n",
    "        self.index = 0\n",
    "        \n",
    "    def __iter__(self):\n",
    "        return self\n",
    "    def __next__(self):\n",
    "        if self.index >= len(self.limit):\n",
    "            raise StopIteration\n",
    "        value = self.limit[self.index]\n",
    "        self.index += 1\n",
    "        return value\n",
    "\n",
    "my_iterator = iterate(l)\n",
    "\n",
    "for i in range(5):\n",
    "    print(next(my_iterator))"
   ]
  },
  {
   "cell_type": "code",
   "execution_count": null,
   "id": "343b35a5-5f97-4e98-83ce-a86ecfd3efdf",
   "metadata": {},
   "outputs": [],
   "source": [
    "Q4 -> What is a generator function in python? Why yield keyword is used? Give an example of a generator\n",
    "function.\n",
    "\n",
    "Ans -> A generator function in Python is a special kind of function that uses the yield keyword instead of return to return a generator object. When a generator function is called, it does not execute the function's\n",
    "code immediately. Instead, it returns a generator object that can be used to execute the function's code on demand. Each time the generator's __next__() method is called, the function's code runs until it encounters \n",
    "the yield keyword, at which point it returns the value specified after yield, and the state of the function is saved. The next time the generator's __next__() method is called, the function's code resumes from where \n",
    "it left off, until it either encounters another yield statement or reaches the end of the function.\n",
    "The yield keyword is used in a generator function to produce a value and return control to the calling code, while also saving the state of the function so that it can be resumed later\n",
    "\n",
    "# example of genrator keyword\n",
    "\n",
    "def fibonacci():\n",
    "    a , b = 0 , 1\n",
    "    while True:\n",
    "        yield a\n",
    "        a , b = b , a+b\n",
    "fib = fibonacci()\n",
    "\n",
    "for i in range(10):\n",
    "    print(next(fib))"
   ]
  },
  {
   "cell_type": "code",
   "execution_count": null,
   "id": "daca8fc7-ae2b-4844-9a31-479322ff7c1b",
   "metadata": {},
   "outputs": [],
   "source": [
    "Q5 -> Create a generator function for prime numbers less than 1000. Use the next() method to print the\n",
    "first 20 prime numbers.\n",
    "\n",
    "Ans -> def prime_numbers():\n",
    "    yield 2\n",
    "    primes = [2]\n",
    "    for num in range(3, 1000):\n",
    "        is_prime = True\n",
    "        for prime in primes:\n",
    "            if prime > (num ** 0.5):\n",
    "                break\n",
    "            if num % prime == 0:\n",
    "                is_prime = False\n",
    "                break\n",
    "        if is_prime:\n",
    "            primes.append(num)\n",
    "            yield num\n",
    "\n",
    "primes = prime_numbers()\n",
    "for i in range(20):\n",
    "    print(next(primes))\n"
   ]
  },
  {
   "cell_type": "code",
   "execution_count": null,
   "id": "73d61ba0-a9cb-4af9-b936-e0b248502598",
   "metadata": {},
   "outputs": [],
   "source": [
    "Q6 -> Write a python program to print the first 10 Fibonacci numbers using a while loop.\n",
    "Ans -> \n",
    "# fibonacci series\n",
    "a = 0 \n",
    "b = 1\n",
    "n = int(input(\"enter number\"))\n",
    "while n > 0:\n",
    "    print(a)\n",
    "    a ,b = b, a+b\n",
    "    n -= 1"
   ]
  },
  {
   "cell_type": "code",
   "execution_count": null,
   "id": "ac297e08-558c-4d68-9cd3-67bf3a25e05b",
   "metadata": {},
   "outputs": [],
   "source": [
    "Q7 -> Write a List Comprehension to iterate through the given string: ‘pwskills’.\n",
    "Expected output: ['p', 'w', 's', 'k', 'i', 'l', 'l', 's']\n",
    "\n",
    "Ans -> strings = 'pwskills'\n",
    "new_list = [char for char in strings]\n",
    "print(new_list)\n"
   ]
  },
  {
   "cell_type": "code",
   "execution_count": null,
   "id": "3a58888e-1603-451e-a171-7d3fc020801b",
   "metadata": {},
   "outputs": [],
   "source": [
    "Q8 -> Write a python program to check whether a given number is Palindrome or not using a while loop.\n",
    "\n",
    "Ans -> number = int(input(\"Enter your number \"))\n",
    "temp = number \n",
    "reverse = 0\n",
    "while(number > 0):\n",
    "    dig = number%10\n",
    "    reverse = (reverse * 10) + dig\n",
    "    number = number//10\n",
    "if temp == reverse:\n",
    "    print(temp)\n",
    "    print(reverse)\n",
    "    print(\"number is a palindrome\")\n",
    "else:\n",
    "    print(\"number is not palindrome\")"
   ]
  },
  {
   "cell_type": "code",
   "execution_count": null,
   "id": "1b5c3c7f-adb4-43df-b7a4-af11b651f296",
   "metadata": {},
   "outputs": [],
   "source": [
    "Q9 -> Write a code to print odd numbers from 1 to 100 using list comprehension.\n",
    "\n",
    "Ans -> l1 = list(range(1,101))\n",
    "l2 = [i for i in l1 if i %2 != 0]"
   ]
  },
  {
   "cell_type": "code",
   "execution_count": null,
   "id": "6de1ae2f-5979-4690-a381-2bbeb6fd36ee",
   "metadata": {},
   "outputs": [],
   "source": []
  },
  {
   "cell_type": "code",
   "execution_count": null,
   "id": "599cee5c-3530-4c57-9deb-6a6241a2c546",
   "metadata": {},
   "outputs": [],
   "source": []
  },
  {
   "cell_type": "code",
   "execution_count": null,
   "id": "2732b9ff-0195-4979-9817-a7e6a1516942",
   "metadata": {},
   "outputs": [],
   "source": []
  },
  {
   "cell_type": "code",
   "execution_count": null,
   "id": "d4d791dc-9483-4c32-b813-82e7962d42f1",
   "metadata": {},
   "outputs": [],
   "source": []
  },
  {
   "cell_type": "code",
   "execution_count": null,
   "id": "c38c95c1-9a58-429f-b569-184b357819c7",
   "metadata": {},
   "outputs": [],
   "source": []
  },
  {
   "cell_type": "code",
   "execution_count": null,
   "id": "c845727b-64e1-494f-b237-6f63ecb70336",
   "metadata": {},
   "outputs": [],
   "source": []
  },
  {
   "cell_type": "code",
   "execution_count": null,
   "id": "29b90a50-24e3-4f21-a12a-a0079bebb21a",
   "metadata": {},
   "outputs": [],
   "source": []
  },
  {
   "cell_type": "code",
   "execution_count": null,
   "id": "94d9b437-04ef-450e-bf34-453031335d4e",
   "metadata": {},
   "outputs": [],
   "source": []
  },
  {
   "cell_type": "code",
   "execution_count": null,
   "id": "81f1ed2a-2180-4578-a26d-1022504d01c1",
   "metadata": {},
   "outputs": [],
   "source": []
  },
  {
   "cell_type": "code",
   "execution_count": null,
   "id": "4fc299cd-fb29-411a-80cd-6179d2ef83de",
   "metadata": {},
   "outputs": [],
   "source": []
  },
  {
   "cell_type": "code",
   "execution_count": null,
   "id": "12398c10-4ce2-4f45-8eeb-90ee2c01cd7c",
   "metadata": {},
   "outputs": [],
   "source": []
  },
  {
   "cell_type": "code",
   "execution_count": null,
   "id": "fc56a8da-aaa8-46c5-ba4c-a2619321cbe3",
   "metadata": {},
   "outputs": [],
   "source": []
  },
  {
   "cell_type": "code",
   "execution_count": null,
   "id": "9c4590ff-0892-4f0d-98a8-21ba41eb3f2d",
   "metadata": {},
   "outputs": [],
   "source": []
  },
  {
   "cell_type": "code",
   "execution_count": null,
   "id": "64b5abad-155a-43e7-950f-348396720f1b",
   "metadata": {},
   "outputs": [],
   "source": []
  },
  {
   "cell_type": "markdown",
   "id": "0d909033-34e4-4fcf-957f-66c1846881e8",
   "metadata": {},
   "source": []
  },
  {
   "cell_type": "code",
   "execution_count": null,
   "id": "3da450b6-fb65-4c41-b7e2-8d9b0ae5c50a",
   "metadata": {},
   "outputs": [],
   "source": []
  },
  {
   "cell_type": "code",
   "execution_count": null,
   "id": "7490a7cd-ebdf-4520-a7f1-9ed2a9669996",
   "metadata": {},
   "outputs": [],
   "source": []
  },
  {
   "cell_type": "code",
   "execution_count": 10,
   "id": "bf99ad7e-df51-4c32-b941-e78476c08e93",
   "metadata": {},
   "outputs": [
    {
     "name": "stdout",
     "output_type": "stream",
     "text": [
      "helloworld\n"
     ]
    }
   ],
   "source": [
    "odd_num()"
   ]
  },
  {
   "cell_type": "code",
   "execution_count": null,
   "id": "68c39e6e-e190-4353-94f6-a151a7a661b2",
   "metadata": {},
   "outputs": [],
   "source": []
  },
  {
   "cell_type": "code",
   "execution_count": null,
   "id": "46053b08-ae69-45c7-b2e9-f6c4b27686e6",
   "metadata": {},
   "outputs": [],
   "source": []
  },
  {
   "cell_type": "code",
   "execution_count": null,
   "id": "1a8b5c28-a95e-49de-8d88-570e181c411e",
   "metadata": {},
   "outputs": [],
   "source": []
  },
  {
   "cell_type": "code",
   "execution_count": null,
   "id": "2b236bd8-fc65-454c-b69d-beb7116239fb",
   "metadata": {},
   "outputs": [],
   "source": []
  },
  {
   "cell_type": "code",
   "execution_count": null,
   "id": "080e8f31-04e2-40d1-9b39-c35813541107",
   "metadata": {},
   "outputs": [],
   "source": []
  },
  {
   "cell_type": "code",
   "execution_count": null,
   "id": "a3d15092-28f1-4ff3-9f79-66cc01cda72a",
   "metadata": {},
   "outputs": [],
   "source": []
  },
  {
   "cell_type": "code",
   "execution_count": null,
   "id": "ce2d0662-1b4c-419c-b1ec-f5b6371bfbdc",
   "metadata": {},
   "outputs": [],
   "source": []
  }
 ],
 "metadata": {
  "kernelspec": {
   "display_name": "Python 3 (ipykernel)",
   "language": "python",
   "name": "python3"
  },
  "language_info": {
   "codemirror_mode": {
    "name": "ipython",
    "version": 3
   },
   "file_extension": ".py",
   "mimetype": "text/x-python",
   "name": "python",
   "nbconvert_exporter": "python",
   "pygments_lexer": "ipython3",
   "version": "3.10.8"
  }
 },
 "nbformat": 4,
 "nbformat_minor": 5
}
